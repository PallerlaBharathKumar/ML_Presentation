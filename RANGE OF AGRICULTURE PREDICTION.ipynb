{
 "cells": [
  {
   "cell_type": "code",
   "execution_count": 1,
   "id": "8beeed56",
   "metadata": {},
   "outputs": [],
   "source": [
    "import pandas as pd"
   ]
  },
  {
   "cell_type": "code",
   "execution_count": 2,
   "id": "f7a95bc6",
   "metadata": {},
   "outputs": [],
   "source": [
    "dataset=pd.read_csv(\"Crop_recommendation.csv\")"
   ]
  },
  {
   "cell_type": "code",
   "execution_count": 3,
   "id": "a45a963b",
   "metadata": {},
   "outputs": [
    {
     "data": {
      "text/html": [
       "<div>\n",
       "<style scoped>\n",
       "    .dataframe tbody tr th:only-of-type {\n",
       "        vertical-align: middle;\n",
       "    }\n",
       "\n",
       "    .dataframe tbody tr th {\n",
       "        vertical-align: top;\n",
       "    }\n",
       "\n",
       "    .dataframe thead th {\n",
       "        text-align: right;\n",
       "    }\n",
       "</style>\n",
       "<table border=\"1\" class=\"dataframe\">\n",
       "  <thead>\n",
       "    <tr style=\"text-align: right;\">\n",
       "      <th></th>\n",
       "      <th>N</th>\n",
       "      <th>P</th>\n",
       "      <th>K</th>\n",
       "      <th>temperature</th>\n",
       "      <th>humidity</th>\n",
       "      <th>ph</th>\n",
       "      <th>rainfall</th>\n",
       "      <th>Crop</th>\n",
       "    </tr>\n",
       "  </thead>\n",
       "  <tbody>\n",
       "    <tr>\n",
       "      <th>0</th>\n",
       "      <td>90</td>\n",
       "      <td>42</td>\n",
       "      <td>43</td>\n",
       "      <td>20.879744</td>\n",
       "      <td>82.002744</td>\n",
       "      <td>6.502985</td>\n",
       "      <td>202.935536</td>\n",
       "      <td>rice</td>\n",
       "    </tr>\n",
       "    <tr>\n",
       "      <th>1</th>\n",
       "      <td>85</td>\n",
       "      <td>58</td>\n",
       "      <td>41</td>\n",
       "      <td>21.770462</td>\n",
       "      <td>80.319644</td>\n",
       "      <td>7.038096</td>\n",
       "      <td>226.655537</td>\n",
       "      <td>rice</td>\n",
       "    </tr>\n",
       "    <tr>\n",
       "      <th>2</th>\n",
       "      <td>60</td>\n",
       "      <td>55</td>\n",
       "      <td>44</td>\n",
       "      <td>23.004459</td>\n",
       "      <td>82.320763</td>\n",
       "      <td>7.840207</td>\n",
       "      <td>263.964248</td>\n",
       "      <td>rice</td>\n",
       "    </tr>\n",
       "    <tr>\n",
       "      <th>3</th>\n",
       "      <td>74</td>\n",
       "      <td>35</td>\n",
       "      <td>40</td>\n",
       "      <td>26.491096</td>\n",
       "      <td>80.158363</td>\n",
       "      <td>6.980401</td>\n",
       "      <td>242.864034</td>\n",
       "      <td>rice</td>\n",
       "    </tr>\n",
       "    <tr>\n",
       "      <th>4</th>\n",
       "      <td>78</td>\n",
       "      <td>42</td>\n",
       "      <td>42</td>\n",
       "      <td>20.130175</td>\n",
       "      <td>81.604873</td>\n",
       "      <td>7.628473</td>\n",
       "      <td>262.717340</td>\n",
       "      <td>rice</td>\n",
       "    </tr>\n",
       "    <tr>\n",
       "      <th>...</th>\n",
       "      <td>...</td>\n",
       "      <td>...</td>\n",
       "      <td>...</td>\n",
       "      <td>...</td>\n",
       "      <td>...</td>\n",
       "      <td>...</td>\n",
       "      <td>...</td>\n",
       "      <td>...</td>\n",
       "    </tr>\n",
       "    <tr>\n",
       "      <th>2195</th>\n",
       "      <td>107</td>\n",
       "      <td>34</td>\n",
       "      <td>32</td>\n",
       "      <td>26.774637</td>\n",
       "      <td>66.413269</td>\n",
       "      <td>6.780064</td>\n",
       "      <td>177.774507</td>\n",
       "      <td>coffee</td>\n",
       "    </tr>\n",
       "    <tr>\n",
       "      <th>2196</th>\n",
       "      <td>99</td>\n",
       "      <td>15</td>\n",
       "      <td>27</td>\n",
       "      <td>27.417112</td>\n",
       "      <td>56.636362</td>\n",
       "      <td>6.086922</td>\n",
       "      <td>127.924610</td>\n",
       "      <td>coffee</td>\n",
       "    </tr>\n",
       "    <tr>\n",
       "      <th>2197</th>\n",
       "      <td>118</td>\n",
       "      <td>33</td>\n",
       "      <td>30</td>\n",
       "      <td>24.131797</td>\n",
       "      <td>67.225123</td>\n",
       "      <td>6.362608</td>\n",
       "      <td>173.322839</td>\n",
       "      <td>coffee</td>\n",
       "    </tr>\n",
       "    <tr>\n",
       "      <th>2198</th>\n",
       "      <td>117</td>\n",
       "      <td>32</td>\n",
       "      <td>34</td>\n",
       "      <td>26.272418</td>\n",
       "      <td>52.127394</td>\n",
       "      <td>6.758793</td>\n",
       "      <td>127.175293</td>\n",
       "      <td>coffee</td>\n",
       "    </tr>\n",
       "    <tr>\n",
       "      <th>2199</th>\n",
       "      <td>104</td>\n",
       "      <td>18</td>\n",
       "      <td>30</td>\n",
       "      <td>23.603016</td>\n",
       "      <td>60.396475</td>\n",
       "      <td>6.779833</td>\n",
       "      <td>140.937041</td>\n",
       "      <td>coffee</td>\n",
       "    </tr>\n",
       "  </tbody>\n",
       "</table>\n",
       "<p>2200 rows × 8 columns</p>\n",
       "</div>"
      ],
      "text/plain": [
       "        N   P   K  temperature   humidity        ph    rainfall    Crop\n",
       "0      90  42  43    20.879744  82.002744  6.502985  202.935536    rice\n",
       "1      85  58  41    21.770462  80.319644  7.038096  226.655537    rice\n",
       "2      60  55  44    23.004459  82.320763  7.840207  263.964248    rice\n",
       "3      74  35  40    26.491096  80.158363  6.980401  242.864034    rice\n",
       "4      78  42  42    20.130175  81.604873  7.628473  262.717340    rice\n",
       "...   ...  ..  ..          ...        ...       ...         ...     ...\n",
       "2195  107  34  32    26.774637  66.413269  6.780064  177.774507  coffee\n",
       "2196   99  15  27    27.417112  56.636362  6.086922  127.924610  coffee\n",
       "2197  118  33  30    24.131797  67.225123  6.362608  173.322839  coffee\n",
       "2198  117  32  34    26.272418  52.127394  6.758793  127.175293  coffee\n",
       "2199  104  18  30    23.603016  60.396475  6.779833  140.937041  coffee\n",
       "\n",
       "[2200 rows x 8 columns]"
      ]
     },
     "execution_count": 3,
     "metadata": {},
     "output_type": "execute_result"
    }
   ],
   "source": [
    "dataset"
   ]
  },
  {
   "cell_type": "code",
   "execution_count": 4,
   "id": "48df2f82",
   "metadata": {},
   "outputs": [
    {
     "data": {
      "text/plain": [
       "array([[90, 42, 43, ..., 6.502985292, 202.9355362, 'rice'],\n",
       "       [85, 58, 41, ..., 7.038096361, 226.6555374, 'rice'],\n",
       "       [60, 55, 44, ..., 7.840207144, 263.9642476, 'rice'],\n",
       "       ...,\n",
       "       [118, 33, 30, ..., 6.362607851, 173.3228386, 'coffee'],\n",
       "       [117, 32, 34, ..., 6.758792552, 127.1752928, 'coffee'],\n",
       "       [104, 18, 30, ..., 6.779832611, 140.9370415, 'coffee']],\n",
       "      dtype=object)"
      ]
     },
     "execution_count": 4,
     "metadata": {},
     "output_type": "execute_result"
    }
   ],
   "source": [
    "dataset.values"
   ]
  },
  {
   "cell_type": "code",
   "execution_count": null,
   "id": "4d9e86e3",
   "metadata": {},
   "outputs": [],
   "source": [
    "#BUBBLE SORT ALGO\n",
    "\n",
    "for j in range(len(data1)-2):\n",
    "    for i in range(len(data1)-1-j):\n",
    "        #print(i)\n",
    "        if (data1[i]>data1[i+1]):\n",
    "            t=data1[i]\n",
    "            data1[i]=data1[i+1]\n",
    "            data1[i+1]="
   ]
  },
  {
   "cell_type": "code",
   "execution_count": 7,
   "id": "063e2f92",
   "metadata": {},
   "outputs": [
    {
     "name": "stdout",
     "output_type": "stream",
     "text": [
      "range of rice is :60-99\n"
     ]
    }
   ],
   "source": [
    "#RANGE CODE\n",
    "\n",
    "\n",
    "stores=[]\n",
    "for i in range(len(dataset[\"Crop\"])) :#0,1,.....2200\n",
    "    if dataset[\"Crop\"][i]=='rice':\n",
    "        #print('we found rice',i)\n",
    "        store=dataset[i:i+1]\n",
    "        #print(store)\n",
    "        #print(store['N'])\n",
    "        nitrogen=str(int(store['N'])).split()\n",
    "        stores+=nitrogen\n",
    "for k in range(len(stores)):\n",
    "    stores[k]=int(stores[k])\n",
    "for j in range(len(stores)-2):\n",
    "    for i in range(len(stores)-1-j):\n",
    "        #print(i)\n",
    "        if (stores[i]>stores[i+1]):\n",
    "            t=stores[i]\n",
    "            stores[i]=stores[i+1]\n",
    "            stores[i+1]=t\n",
    "print(\"range of rice is :{}-{}\".format( stores[0],stores[-1]))"
   ]
  },
  {
   "cell_type": "code",
   "execution_count": 3,
   "id": "a23d8252",
   "metadata": {},
   "outputs": [],
   "source": [
    "stores=[]\n",
    "stores1=[]\n",
    "stores2=[]\n",
    "stores3=[]\n",
    "stores4=[]\n",
    "stores5=[]\n",
    "stores6=[]\n",
    "#TO SELECT ALL ROWS WITH RICE AS CROP\n",
    "for i in range(len(dataset[\"Crop\"])) :#0,1,.....2200\n",
    "    if dataset[\"Crop\"][i]=='rice':\n",
    "        #store is a variable which stores all rows o\n",
    "        store=dataset[i:i+1]\n",
    "        nitrogen=str(int(store['N'])).split()\n",
    "        phosphorous=str(int(store['P'])).split()\n",
    "        potassium=str(int(store['K'])).split()\n",
    "        temperature=str(float(store['temperature'])).split()\n",
    "        humidity=str(float(store['humidity'])).split()\n",
    "        ph=str(float(store['ph'])).split()\n",
    "        rainfall=str(float(store['rainfall'])).split()\n",
    "        stores+=nitrogen\n",
    "        stores1+=phosphorous\n",
    "        stores2+=potassium\n",
    "        stores3+=temperature\n",
    "        stores4+=humidity\n",
    "        stores5+=ph\n",
    "        stores6+=rainfall\n",
    "        \n",
    "        \n",
    "\n",
    "\n",
    "def Nitrogen():      \n",
    "    #TO CONVERT VALUES IN INTEGER FOR NITROGEN\n",
    "    for k in range(len(stores)):\n",
    "        stores[k]=int(stores[k])\n",
    "        \n",
    "    #SORTING TO GET RANGE  FOR NITROGEN  \n",
    "    for j in range(len(stores)-2):\n",
    "        for i in range(len(stores)-1-j):\n",
    "            #print(i)\n",
    "            if (stores[i]>stores[i+1]):\n",
    "                t=stores[i]\n",
    "                stores[i]=stores[i+1]\n",
    "                stores[i+1]=t\n",
    "    print(\"range of nitrogen value of rice is :{}-{}\".format( stores[0],stores[-1]))\n",
    "\n",
    "\n",
    "def Phosphorous(): \n",
    "    #TO CONVERT VALUES IN INTEGER FOR PHOSPHOROUS\n",
    "    for k in range(len(stores1)):\n",
    "        stores1[k]=int(stores1[k])\n",
    "        \n",
    "    #SORTING TO GET RANGE  FOR PHOSPHOROUS  \n",
    "    for j in range(len(stores1)-2):\n",
    "        for i in range(len(stores1)-1-j):\n",
    "            #print(i)\n",
    "            if (stores1[i]>stores1[i+1]):\n",
    "                t=stores1[i]\n",
    "                stores1[i]=stores1[i+1]\n",
    "                stores1[i+1]=t\n",
    "    print(\"range of phosphorous value of rice is :{}-{}\".format( stores1[0],stores1[-1]))\n",
    "    \n",
    "    \n",
    "\n",
    "def Potassium():    \n",
    "    #TO CONVERT VALUES IN INTEGER FOR POTASSIUM\n",
    "    for k in range(len(stores2)):\n",
    "        stores2[k]=int(stores2[k])\n",
    "        \n",
    "    #SORTING TO GET RANGE  FOR POTASSIUM \n",
    "    for j in range(len(stores2)-2):\n",
    "        for i in range(len(stores2)-1-j):\n",
    "            #print(i)\n",
    "            if (stores2[i]>stores2[i+1]):\n",
    "                t=stores2[i]\n",
    "                stores2[i]=stores2[i+1]\n",
    "                stores2[i+1]=t\n",
    "    print(\"range of potassium value of rice is :{}-{}\".format( stores2[0],stores2[-1]))\n",
    "    \n",
    "    \n",
    "\n",
    "\n",
    "    \n",
    "def Temperature():\n",
    "    #TO CONVERT VALUES IN FLOAT FOR TEMPERATURE\n",
    "    for k in range(len(stores3)):\n",
    "        stores3[k]=float(stores3[k])\n",
    "        \n",
    "    #SORTING TO GET RANGE  FOR TEMPERATURE \n",
    "    for j in range(len(stores3)-2):\n",
    "        for i in range(len(stores3)-1-j):\n",
    "            #print(i)\n",
    "            if (stores3[i]>stores3[i+1]):\n",
    "                t=stores3[i]\n",
    "                stores3[i]=stores3[i+1]\n",
    "                stores3[i+1]=t\n",
    "    print(\"range of temperature value of rice is :{}-{}\".format( stores3[0],stores3[-1]))\n",
    "    \n",
    "    \n",
    "    \n",
    "    \n",
    "\n",
    "\n",
    "def Humidity():\n",
    "    #TO CONVERT VALUES IN FLOAT FOR HUMIDITY\n",
    "    for k in range(len(stores4)):\n",
    "        stores4[k]=float(stores4[k])\n",
    "    \n",
    "    #SORTING TO GET RANGE  FOR PH  \n",
    "    for j in range(len(stores5)-2):\n",
    "        for i in range(len(stores5)-1-j):\n",
    "            #print(i)\n",
    "            if (stores5[i]>stores5[i+1]):\n",
    "                t=stores5[i]\n",
    "                stores5[i]=stores5[i+1]\n",
    "                stores5[i+1]=t\n",
    "    print(\"range of ph value of rice is :{}-{}\".format( stores5[0],stores5[-1]))\n",
    "\n",
    "        \n",
    "        \n",
    "def Ph():\n",
    "    #TO CONVERT VALUES IN FLOAT FOR PH\n",
    "    for k in range(len(stores5)):\n",
    "        stores5[k]=float(stores5[k])\n",
    "    #SORTING TO GET RANGE  FOR PH  \n",
    "    for j in range(len(stores5)-2):\n",
    "        for i in range(len(stores5)-1-j):\n",
    "            #print(i)\n",
    "            if (stores5[i]>stores5[i+1]):\n",
    "                t=stores5[i]\n",
    "                stores5[i]=stores5[i+1]\n",
    "                stores5[i+1]=t\n",
    "    print(\"range of ph value of rice is :{}-{}\".format( stores5[0],stores5[-1]))\n",
    "\n",
    "        \n",
    "        \n",
    "\n",
    "def Rainfall():\n",
    "    #TO CONVERT VALUES IN FLOAT FOR RAINFALL\n",
    "    for k in range(len(stores6)):\n",
    "        stores6[k]=float(stores6[k])\n",
    "\n",
    "    #SORTING TO GET RANGE  FOR RAINFALL  \n",
    "    for j in range(len(stores6)-2):\n",
    "        for i in range(len(stores6)-1-j):\n",
    "            #print(i)\n",
    "            if (stores6[i]>stores6[i+1]):\n",
    "                t=stores6[i]\n",
    "                stores6[i]=stores6[i+1]\n",
    "                stores6[i+1]=t\n",
    "    print(\"range of rainfall value of rice is :{}-{}\".format( stores6[0],stores6[-1]))"
   ]
  },
  {
   "cell_type": "code",
   "execution_count": null,
   "id": "f108090b",
   "metadata": {},
   "outputs": [],
   "source": [
    "det=input()\n",
    "if det=='rice':\n",
    "    Nitrogen()"
   ]
  },
  {
   "cell_type": "code",
   "execution_count": null,
   "id": "7fefd668",
   "metadata": {},
   "outputs": [],
   "source": []
  },
  {
   "cell_type": "code",
   "execution_count": 9,
   "id": "42e91bc6",
   "metadata": {},
   "outputs": [
    {
     "name": "stdout",
     "output_type": "stream",
     "text": [
      "range of nitrogen value of rice is :60-99\n"
     ]
    }
   ],
   "source": [
    "Nitrogen()"
   ]
  },
  {
   "cell_type": "code",
   "execution_count": 11,
   "id": "48129593",
   "metadata": {},
   "outputs": [
    {
     "name": "stdout",
     "output_type": "stream",
     "text": [
      "range of phosphorous value of rice is :35-60\n"
     ]
    }
   ],
   "source": [
    "Phosphorous()"
   ]
  },
  {
   "cell_type": "code",
   "execution_count": 13,
   "id": "a69ea03d",
   "metadata": {},
   "outputs": [
    {
     "name": "stdout",
     "output_type": "stream",
     "text": [
      "range of potassium value of rice is :35-45\n"
     ]
    }
   ],
   "source": [
    "Potassium()"
   ]
  },
  {
   "cell_type": "code",
   "execution_count": 14,
   "id": "b275d77b",
   "metadata": {},
   "outputs": [
    {
     "name": "stdout",
     "output_type": "stream",
     "text": [
      "range of temperature value of rice is :20.0454142-26.92995077\n"
     ]
    }
   ],
   "source": [
    "Temperature()"
   ]
  },
  {
   "cell_type": "code",
   "execution_count": 15,
   "id": "896d3063",
   "metadata": {},
   "outputs": [
    {
     "name": "stdout",
     "output_type": "stream",
     "text": [
      "range of ph value of rice is :5.005306977-7.868474653\n"
     ]
    }
   ],
   "source": [
    "Humidity()"
   ]
  },
  {
   "cell_type": "code",
   "execution_count": 17,
   "id": "3208231d",
   "metadata": {},
   "outputs": [
    {
     "name": "stdout",
     "output_type": "stream",
     "text": [
      "range of ph value of rice is :5.005306977-7.868474653\n"
     ]
    }
   ],
   "source": [
    "Ph()"
   ]
  },
  {
   "cell_type": "code",
   "execution_count": 21,
   "id": "006c2111",
   "metadata": {},
   "outputs": [
    {
     "name": "stdout",
     "output_type": "stream",
     "text": [
      "range of rainfall value of rice is :182.5616319-298.5601175\n"
     ]
    }
   ],
   "source": [
    "Rainfall()"
   ]
  },
  {
   "cell_type": "code",
   "execution_count": 20,
   "id": "59d55ab1",
   "metadata": {},
   "outputs": [],
   "source": [
    "#first attempt for writing this code\n",
    "\n",
    "stores=[]\n",
    "for i in range(len(dataset[\"Crop\"])) :#0,1,.....2200\n",
    "    if dataset[\"Crop\"][i]=='rice':\n",
    "        #print('we found rice',i)\n",
    "        store=dataset[i:i+1]\n",
    "        #print(store)\n",
    "        #print(store['N'])\n",
    "        nitrogen=str(int(store['N'])).split()\n",
    "        stores+=nitrogen\n",
    "for k in range(len(stores)):\n",
    "    stores[k]=int(stores[k])\n",
    "for j in range(len(stores)-2):\n",
    "    for i in range(len(stores)-1-j):\n",
    "        #print(i)\n",
    "        if (stores[i]>stores[i+1]):\n",
    "            t=stores[i]\n",
    "            stores[i]=stores[i+1]\n",
    "            stores[i+1]=t\n",
    "print(\"range of rice is :{}-{}\".format( stores[0],stores[-1]))"
   ]
  },
  {
   "cell_type": "code",
   "execution_count": 21,
   "id": "72f3be11",
   "metadata": {},
   "outputs": [],
   "source": [
    "for k in range(len(stores1)):\n",
    "    stores1[k]=int(stores1[k])"
   ]
  },
  {
   "cell_type": "code",
   "execution_count": null,
   "id": "42b8e64c",
   "metadata": {},
   "outputs": [],
   "source": []
  },
  {
   "cell_type": "code",
   "execution_count": null,
   "id": "3a99a433",
   "metadata": {},
   "outputs": [],
   "source": [
    "#SOME USER DEFINE FUNCTIONS\n",
    "\n",
    "\n",
    "\n",
    "#SORTING TO GET RANGE  FOR NITROGEN  \n",
    "for j in range(len(stores)-2):\n",
    "    for i in range(len(stores)-1-j):\n",
    "        #print(i)\n",
    "        if (stores[i]>stores[i+1]):\n",
    "            t=stores[i]\n",
    "            stores[i]=stores[i+1]\n",
    "            stores[i+1]=t\n",
    "print(\"range of nitrogen value of rice is :{}-{}\".format( stores[0],stores[-1]))\n",
    "\n",
    "#SORTING TO GET RANGE  FOR PHOSPHOROUS  \n",
    "for j in range(len(stores1)-2):\n",
    "    for i in range(len(stores1)-1-j):\n",
    "        #print(i)\n",
    "        if (stores1[i]>stores1[i+1]):\n",
    "            t=stores1[i]\n",
    "            stores1[i]=stores1[i+1]\n",
    "            stores1[i+1]=t\n",
    "print(\"range of phosphorous value of rice is :{}-{}\".format( stores1[0],stores1[-1]))\n",
    "\n",
    "\n",
    "#SORTING TO GET RANGE  FOR POTASSIUM \n",
    "for j in range(len(stores2)-2):\n",
    "    for i in range(len(stores2)-1-j):\n",
    "        #print(i)\n",
    "        if (stores2[i]>stores2[i+1]):\n",
    "            t=stores2[i]\n",
    "            stores2[i]=stores2[i+1]\n",
    "            stores2[i+1]=t\n",
    "print(\"range of potassium value of rice is :{}-{}\".format( stores2[0],stores2[-1]))\n",
    "\n",
    "#SORTING TO GET RANGE  FOR TEMPERATURE \n",
    "for j in range(len(stores3)-2):\n",
    "    for i in range(len(stores3)-1-j):\n",
    "        #print(i)\n",
    "        if (stores3[i]>stores3[i+1]):\n",
    "            t=stores3[i]\n",
    "            stores3[i]=stores3[i+1]\n",
    "            stores3[i+1]=t\n",
    "print(\"range of temperature value of rice is :{}-{}\".format( stores3[0],stores3[-1]))\n",
    "\n",
    "#SORTING TO GET RANGE  FOR HUMIDITY  \n",
    "for j in range(len(stores4)-2):\n",
    "    for i in range(len(stores4)-1-j):\n",
    "        #print(i)\n",
    "        if (stores4[i]>stores4[i+1]):\n",
    "            t=stores4[i]\n",
    "            stores4[i]=stores4[i+1]\n",
    "            stores4[i+1]=t\n",
    "print(\"range of humidity value of rice is :{}-{}\".format( stores4[0],stores4[-1]))\n",
    "\n",
    "#SORTING TO GET RANGE  FOR PH  \n",
    "for j in range(len(stores5)-2):\n",
    "    for i in range(len(stores5)-1-j):\n",
    "        #print(i)\n",
    "        if (stores5[i]>stores5[i+1]):\n",
    "            t=stores5[i]\n",
    "            stores5[i]=stores5[i+1]\n",
    "            stores5[i+1]=t\n",
    "print(\"range of ph value of rice is :{}-{}\".format( stores5[0],stores5[-1]))\n",
    "\n",
    "#SORTING TO GET RANGE  FOR RAINFALL  \n",
    "for j in range(len(stores6)-2):\n",
    "    for i in range(len(stores6)-1-j):\n",
    "        #print(i)\n",
    "        if (stores6[i]>stores6[i+1]):\n",
    "            t=stores6[i]\n",
    "            stores6[i]=stores6[i+1]\n",
    "            stores6[i+1]=t\n",
    "print(\"range of rainfall value of rice is :{}-{}\".format( stores6[0],stores6[-1]))"
   ]
  }
 ],
 "metadata": {
  "kernelspec": {
   "display_name": "Python 3 (ipykernel)",
   "language": "python",
   "name": "python3"
  },
  "language_info": {
   "codemirror_mode": {
    "name": "ipython",
    "version": 3
   },
   "file_extension": ".py",
   "mimetype": "text/x-python",
   "name": "python",
   "nbconvert_exporter": "python",
   "pygments_lexer": "ipython3",
   "version": "3.12.7"
  }
 },
 "nbformat": 4,
 "nbformat_minor": 5
}
